{
  "cells": [
    {
      "cell_type": "code",
      "execution_count": null,
      "metadata": {
        "id": "68klgr3cSiFV"
      },
      "outputs": [],
      "source": [
        "from random import randint\n",
        "import os\n",
        "import math\n",
        "import random\n",
        "import gc\n",
        "import pickle\n",
        "import time\n",
        "import torch\n",
        "from numba import jit, cuda\n",
        "import pandas as pd\n",
        "import numpy as np\n",
        "import json\n",
        "import csv\n",
        "import psutil\n",
        "import nltk"
      ]
    },
    {
      "cell_type": "code",
      "execution_count": null,
      "metadata": {
        "id": "uc-_doQHSkdk"
      },
      "outputs": [],
      "source": [
        "from random import randint\n",
        "from numpy import array\n",
        "from numpy import argmax\n",
        "from numpy import random\n",
        "import os\n",
        "import keras.backend as K\n",
        "from tensorflow.keras import models\n",
        "from numpy import array_equal\n",
        "import numpy as np\n",
        "import tensorflow as tf\n",
        "from tensorflow.keras.models import Sequential, Model\n",
        "from tensorflow.keras.layers import LSTM, Bidirectional\n",
        "from tensorflow.keras.layers import Dense, Flatten,Embedding\n",
        "from tensorflow.keras import Input\n",
        "from tensorflow.keras.layers import TimeDistributed\n",
        "from tensorflow.keras.layers import RepeatVector\n",
        "from tensorflow.keras.callbacks import EarlyStopping\n",
        "from tensorflow.keras.utils import plot_model\n",
        "from tensorflow.keras.models import load_model\n",
        "import matplotlib.pyplot as plt\n",
        "import matplotlib.ticker as ticker\n",
        "\n",
        "from tensorflow.keras.layers import Lambda\n",
        "from tensorflow.keras import backend as K\n",
        "\n",
        "tf.keras.backend.set_floatx('float64')\n",
        "import math\n",
        "import random\n",
        "import gc\n",
        "import pickle\n",
        "import pandas as pd\n",
        "import numpy as np\n",
        "import re\n",
        "import string\n",
        "from os import listdir\n",
        "from os.path import isfile,join\n",
        "from tensorflow.keras.utils import to_categorical\n"
      ]
    },
    {
      "cell_type": "markdown",
      "metadata": {
        "id": "xY_hzdOMuUVq"
      },
      "source": [
        "# Making X-Y Pairs from File"
      ]
    },
    {
      "cell_type": "code",
      "execution_count": null,
      "metadata": {
        "id": "ihJsdhFZ6-oN"
      },
      "outputs": [],
      "source": [
        "class color:\n",
        "   PURPLE = '\\033[95m'\n",
        "   CYAN = '\\033[96m'\n",
        "   DARKCYAN = '\\033[36m'\n",
        "   BLUE = '\\033[94m'\n",
        "   GREEN = '\\033[92m'\n",
        "   YELLOW = '\\033[93m'\n",
        "   RED = '\\033[91m'\n",
        "   BOLD = '\\033[1m'\n",
        "   UNDERLINE = '\\033[4m'\n",
        "   END = '\\033[0m'"
      ]
    },
    {
      "cell_type": "code",
      "execution_count": null,
      "metadata": {
        "id": "Z4dYuHye6X8I"
      },
      "outputs": [],
      "source": [
        "X=np.load('/content/drive/MyDrive/Transformer_Experiments/20,1,X,Y/X_id_without_sen_shuffle.npy')\n",
        "Y=np.load('/content/drive/MyDrive/Transformer_Experiments/20,1,X,Y/Y_id_without_sen_shuffle.npy').tolist()\n",
        "one_h=np.load('/content/drive/MyDrive/Transformer_Experiments/OneHotEncoded.npy')"
      ]
    },
    {
      "cell_type": "code",
      "execution_count": null,
      "metadata": {
        "id": "CvjgTU12rM1P"
      },
      "outputs": [],
      "source": [
        "file1=open('/content/drive/MyDrive/Transformer_Experiments/final_stopwords.txt')\n",
        "stopwords=[]\n",
        "for lines in file1.readlines():\n",
        "  stopwords.append(lines[:-1])"
      ]
    },
    {
      "cell_type": "code",
      "execution_count": null,
      "metadata": {
        "id": "ZeFeFb0HrM7O"
      },
      "outputs": [],
      "source": [
        "convert_file=open('/content/drive/MyDrive/Transformer_Experiments/20,1,X,Y/wordtoid_without_sen_shuffle.json', 'r')\n",
        "word2id=json.load(convert_file)\n",
        "convert_file.close()\n",
        "id2word=np.load('/content/drive/MyDrive/Transformer_Experiments/20,1,X,Y/idtoword_without_sen_shuffle.npy')"
      ]
    },
    {
      "cell_type": "code",
      "source": [
        "gc.collect()"
      ],
      "metadata": {
        "colab": {
          "base_uri": "https://localhost:8080/"
        },
        "id": "BOJ_0-ktObX0",
        "outputId": "61ce82ec-e405-45f6-b2d8-cec48664ac8b"
      },
      "execution_count": null,
      "outputs": [
        {
          "output_type": "execute_result",
          "data": {
            "text/plain": [
              "58"
            ]
          },
          "metadata": {},
          "execution_count": 7
        }
      ]
    },
    {
      "cell_type": "code",
      "execution_count": null,
      "metadata": {
        "id": "EeygVr1Yrbyz",
        "colab": {
          "base_uri": "https://localhost:8080/"
        },
        "outputId": "9b869c0c-d578-4d8b-8172-6f80abb2c750"
      },
      "outputs": [
        {
          "output_type": "stream",
          "name": "stdout",
          "text": [
            "अपने आप को\n",
            "तुम्हारा\n",
            "अपने आप\n",
            "खुद को\n",
            "कि वह\n",
            "खुद ही\n",
            "किसे\n",
            "हूँ\n",
            "होता है\n",
            "किया जा रहा है\n",
            "किया है\n",
            "करता है\n",
            "क्यूंकि\n",
            "जब तक\n",
            "के लिए\n",
            "के बारे में\n",
            "के माध्यम से\n",
            "से पहले\n",
            "के बाद\n",
            "से नीचे\n",
            "करने में\n",
            "से अधिक\n",
            "एक बार\n",
            "यहाँ\n",
            "वहाँ\n",
            "कहाँ\n",
            "में कुछ\n",
            "में कोई\n",
            "जरा\n",
            "कर दिया\n",
            "बड़ा\n",
            "बड़े\n",
            "उन्हें \n",
            "जिन्हों\n",
            "तिन्हें\n",
            "तिन्हों\n",
            "किन्हों\n",
            "किन्हें\n",
            "इन्हों\n",
            "उन्हों\n",
            "बिलकुल\n",
            "निहायत\n",
            "जितना\n",
            "साबुत\n",
            "वग़ैरह\n",
            "तिसे\n",
            "काफ़ी\n",
            "मानो\n",
            "जीधर\n",
            "तिस\n",
            "तिन\n",
            "संग\n",
            "के द्वारा\n",
            "के लिए\n",
            "से \n",
            "रा\n",
            "री\n",
            "अरे\n",
            "के बिना\n",
            "होते हुए\n",
            "यहाँ\n",
            "हूँ\n",
            "करेंग\n"
          ]
        }
      ],
      "source": [
        "stopid=[]\n",
        "for s in stopwords:\n",
        "  if s in word2id:\n",
        "    stopid.append(word2id[s])\n",
        "  else:\n",
        "    print(s)"
      ]
    },
    {
      "cell_type": "code",
      "source": [
        "len(stopwords),len(stopid)"
      ],
      "metadata": {
        "colab": {
          "base_uri": "https://localhost:8080/"
        },
        "id": "SXr7B3LvIz8o",
        "outputId": "705ffffe-1de0-457d-cd62-cc3ace4ae36d"
      },
      "execution_count": null,
      "outputs": [
        {
          "output_type": "execute_result",
          "data": {
            "text/plain": [
              "(298, 235)"
            ]
          },
          "metadata": {},
          "execution_count": 11
        }
      ]
    },
    {
      "cell_type": "code",
      "execution_count": null,
      "metadata": {
        "id": "xzFc6skC6ZNc",
        "colab": {
          "base_uri": "https://localhost:8080/"
        },
        "outputId": "86b10f87-ba11-4701-895e-137122ff5592"
      },
      "outputs": [
        {
          "output_type": "execute_result",
          "data": {
            "text/plain": [
              "351"
            ]
          },
          "metadata": {},
          "execution_count": 10
        }
      ],
      "source": [
        "for i in range(len(Y)):\n",
        "  for j,value in enumerate(Y[i]):\n",
        "    Y[i][j]=one_h[value]\n",
        "del one_h\n",
        "gc.collect()"
      ]
    },
    {
      "cell_type": "markdown",
      "source": [
        "Credits- Major code for implementing the transformer in below section was taken from a tutorial published on tensorflow for NMT task from portugeuse to english using transformer. We have taken code of encoder part only for our task."
      ],
      "metadata": {
        "id": "YCRhOZMyyp3O"
      }
    },
    {
      "cell_type": "markdown",
      "metadata": {
        "id": "hrwJiJ9v6djH"
      },
      "source": [
        "# Transformer_functions"
      ]
    },
    {
      "cell_type": "code",
      "execution_count": null,
      "metadata": {
        "id": "CgzdFiZ8j1V4"
      },
      "outputs": [],
      "source": [
        "def get_angles(pos, i, d_model):\n",
        "  angle_rates = 1 / np.power(10000, (2 * (i//2)) / np.float32(d_model))\n",
        "  return pos * angle_rates"
      ]
    },
    {
      "cell_type": "code",
      "execution_count": null,
      "metadata": {
        "id": "_hpDLFcGj3ty"
      },
      "outputs": [],
      "source": [
        "def positional_encoding(position, d_model):\n",
        "  angle_rads = get_angles(np.arange(position)[:, np.newaxis],\n",
        "                          np.arange(d_model)[np.newaxis, :],\n",
        "                          d_model)\n",
        "\n",
        "  # apply sin to even indices in the array; 2i\n",
        "  angle_rads[:, 0::2] = np.sin(angle_rads[:, 0::2])\n",
        "\n",
        "  # apply cos to odd indices in the array; 2i+1\n",
        "  angle_rads[:, 1::2] = np.cos(angle_rads[:, 1::2])\n",
        "\n",
        "  pos_encoding = angle_rads[np.newaxis, ...]\n",
        "\n",
        "  return tf.cast(pos_encoding, dtype=tf.float32)"
      ]
    },
    {
      "cell_type": "code",
      "execution_count": null,
      "metadata": {
        "id": "81lINyipieUI"
      },
      "outputs": [],
      "source": [
        "def scaled_dot_product_attention(q, k, v, mask):\n",
        "  \"\"\"Calculate the attention weights.\n",
        "  q, k, v must have matching leading dimensions.\n",
        "  k, v must have matching penultimate dimension, i.e.: seq_len_k = seq_len_v.\n",
        "  The mask has different shapes depending on its type(padding or look ahead)\n",
        "  but it must be broadcastable for addition.\n",
        "\n",
        "  Args:\n",
        "    q: query shape == (..., seq_len_q, depth)\n",
        "    k: key shape == (..., seq_len_k, depth)\n",
        "    v: value shape == (..., seq_len_v, depth_v)\n",
        "    mask: Float tensor with shape broadcastable\n",
        "          to (..., seq_len_q, seq_len_k). Defaults to None.\n",
        "\n",
        "  Returns:\n",
        "    output, attention_weights\n",
        "  \"\"\"\n",
        "\n",
        "  matmul_qk = tf.matmul(q, k, transpose_b=True)  # (..., seq_len_q, seq_len_k)\n",
        "  # scale matmul_qk\n",
        "  dk = tf.cast(tf.shape(k)[-1], tf.float32)\n",
        "  matmul_qk=tf.cast(matmul_qk,dtype=tf.float32)\n",
        "  scaled_attention_logits = matmul_qk / tf.math.sqrt(dk)\n",
        "  scaled_attention_logits=tf.cast(scaled_attention_logits,dtype=tf.float64)\n",
        "  # add the mask to the scaled tensor.\n",
        "  mask=None\n",
        "  if mask is not None:\n",
        "    scaled_attention_logits += (mask * -1e9)\n",
        "\n",
        "  # softmax is normalized on the last axis (seq_len_k) so that the scores\n",
        "  # add up to 1.\n",
        "  attention_weights = tf.nn.softmax(scaled_attention_logits, axis=-1)  # (..., seq_len_q, seq_len_k)\n",
        "\n",
        "  output = tf.matmul(attention_weights, v)  # (..., seq_len_q, depth_v)\n",
        "\n",
        "  return output, attention_weights"
      ]
    },
    {
      "cell_type": "code",
      "execution_count": null,
      "metadata": {
        "id": "31E6SOrGilzq"
      },
      "outputs": [],
      "source": [
        "class MultiHeadAttention(tf.keras.layers.Layer):\n",
        "  def __init__(self, d_model, num_heads):\n",
        "    super(MultiHeadAttention, self).__init__()\n",
        "    self.num_heads = num_heads\n",
        "    self.d_model = d_model\n",
        "\n",
        "    assert d_model % self.num_heads == 0\n",
        "\n",
        "    self.depth = d_model // self.num_heads\n",
        "\n",
        "    self.wq = tf.keras.layers.Dense(d_model)\n",
        "    self.wk = tf.keras.layers.Dense(d_model)\n",
        "    self.wv = tf.keras.layers.Dense(d_model)\n",
        "\n",
        "    self.dense = tf.keras.layers.Dense(d_model)\n",
        "\n",
        "  def split_heads(self, x, batch_size):\n",
        "    \"\"\"Split the last dimension into (num_heads, depth).\n",
        "    Transpose the result such that the shape is (batch_size, num_heads, seq_len, depth)\n",
        "    \"\"\"\n",
        "    x = tf.reshape(x, (batch_size, -1, self.num_heads, self.depth))\n",
        "    return tf.transpose(x, perm=[0, 2, 1, 3])\n",
        "\n",
        "  def call(self, v, k, q, mask):\n",
        "    batch_size = tf.shape(q)[0]\n",
        "\n",
        "    \n",
        "    q = self.wq(q)  # (batch_size, seq_len, d_model)\n",
        "    k = self.wk(k)  # (batch_size, seq_len, d_model)\n",
        "    v = self.wv(v)  # (batch_size, seq_len, d_model)\n",
        "\n",
        "    q = self.split_heads(q, batch_size)  # (batch_size, num_heads, seq_len_q, depth)\n",
        "    k = self.split_heads(k, batch_size)  # (batch_size, num_heads, seq_len_k, depth)\n",
        "    v = self.split_heads(v, batch_size)  # (batch_size, num_heads, seq_len_v, depth)\n",
        "\n",
        "    # scaled_attention.shape == (batch_size, num_heads, seq_len_q, depth)\n",
        "    # attention_weights.shape == (batch_size, num_heads, seq_len_q, seq_len_k)\n",
        "    scaled_attention, attention_weights = scaled_dot_product_attention(\n",
        "        q, k, v, mask)\n",
        "    scaled_attention = tf.transpose(scaled_attention, perm=[0, 2, 1, 3])  # (batch_size, seq_len_q, num_heads, depth)\n",
        "\n",
        "    concat_attention = tf.reshape(scaled_attention,\n",
        "                                  (batch_size, -1, self.d_model))  # (batch_size, seq_len_q, d_model)\n",
        "\n",
        "    output = self.dense(concat_attention)  # (batch_size, seq_len_q, d_model)\n",
        "\n",
        "    return output, attention_weights"
      ]
    },
    {
      "cell_type": "code",
      "execution_count": null,
      "metadata": {
        "id": "3rk952vIinMt"
      },
      "outputs": [],
      "source": [
        "def point_wise_feed_forward_network(d_model, dff):\n",
        "  return tf.keras.models.Models([\n",
        "      tf.keras.layers.Dense(dff, activation='relu'),  # (batch_size, seq_len, dff)\n",
        "      tf.keras.layers.Dense(d_model)  # (batch_size, seq_len, d_model)\n",
        "  ])"
      ]
    },
    {
      "cell_type": "code",
      "execution_count": null,
      "metadata": {
        "id": "c_W8HfAIirM1"
      },
      "outputs": [],
      "source": [
        "class EncoderLayer(tf.keras.layers.Layer):\n",
        "  def __init__(self, d_model, num_heads, dff, rate=0.1):\n",
        "    super(EncoderLayer, self).__init__()\n",
        "\n",
        "    self.mha = MultiHeadAttention(d_model, num_heads)\n",
        "    self.ffn_0=tf.keras.layers.Dense(dff, activation='relu')\n",
        "    self.ffn_1=tf.keras.layers.Dense(d_model)\n",
        " #   self.ffn = point_wise_feed_forward_network(d_model, dff)\n",
        "\n",
        "    self.layernorm1 = tf.keras.layers.LayerNormalization(epsilon=1e-6)\n",
        "    self.layernorm2 = tf.keras.layers.LayerNormalization(epsilon=1e-6)\n",
        "\n",
        "    self.dropout1 = tf.keras.layers.Dropout(rate)\n",
        "    self.dropout2 = tf.keras.layers.Dropout(rate)\n",
        "\n",
        "  def call(self, x, training, mask,drp,layer_norm):\n",
        "\n",
        "    attn_output, _ = self.mha(x, x, x, mask)  # (batch_size, input_seq_len, d_model)\n",
        "#    if drp is not None:\n",
        "#      attn_output = self.dropout1(attn_output, training=training)\n",
        "    if layer_norm ==1:\n",
        "      out1 = self.layernorm1(x + attn_output)  # (batch_size, input_seq_len, d_model)\n",
        "    else:\n",
        "      out1 = x + attn_output  # (batch_size, input_seq_len, d_model)\n",
        "    ffn_output = self.ffn_1(self.ffn_0(out1))  # (batch_size, input_seq_len, d_model)\n",
        "    if drp is not None:\n",
        "      ffn_output = self.dropout2(ffn_output, training=training)\n",
        "    if layer_norm==1:\n",
        "      out2 = self.layernorm2(out1 + ffn_output)  # (batch_size, input_seq_len, d_model)\n",
        "    else:\n",
        "      out2 = out1 + ffn_output  # (batch_size, input_seq_len, d_model)\n",
        "\n",
        "    return out2"
      ]
    },
    {
      "cell_type": "code",
      "execution_count": null,
      "metadata": {
        "id": "oFxn7zs4iutQ"
      },
      "outputs": [],
      "source": [
        "class Encoder(tf.keras.layers.Layer):\n",
        "  def __init__(self, num_layers, d_model, num_heads, dff, input_vocab_size,\n",
        "               maximum_position_encoding, rate=0.1):\n",
        "    super(Encoder, self).__init__()\n",
        "\n",
        "    self.d_model = d_model\n",
        "    self.num_layers = num_layers\n",
        "\n",
        "    self.embedding = tf.keras.layers.Embedding(input_vocab_size, d_model)\n",
        "    self.pos_encoding = positional_encoding(maximum_position_encoding,\n",
        "                                            self.d_model)\n",
        "\n",
        "    self.enc_layers = [EncoderLayer(d_model, num_heads, dff, rate)\n",
        "                       for _ in range(num_layers)]\n",
        "\n",
        "    self.dropout = tf.keras.layers.Dropout(rate)\n",
        "#    self.pred=tf.keras.layers.Dense(input_vocab_size)\n",
        "\n",
        "  def call(self, x, training, mask,drp,layer_norm):\n",
        "\n",
        "    seq_len = tf.shape(x)[1]\n",
        "\n",
        "    # adding embedding and position encoding.\n",
        "    x = self.embedding(x)  # (batch_size, input_seq_len, d_model)\n",
        "    x=tf.cast(x,dtype=tf.float32)\n",
        "    x *= tf.math.sqrt(tf.cast(self.d_model, tf.float32))\n",
        "    x += self.pos_encoding[:, :seq_len, :]\n",
        "\n",
        "#    if drp is not None:\n",
        "#      x = self.dropout(x, training=training)\n",
        "    \n",
        "    for i in range(self.num_layers):\n",
        "      x = self.enc_layers[i](x, training, mask,drp,layer_norm)\n",
        "#    tf.shape(x)[0]\n",
        "    x=tf.reshape(x,[tf.shape(x)[0],x.shape[1]*x.shape[2]])\n",
        "#    print(x.shape)\n",
        "    return x  # (batch_size, input_seq_len, d_model)"
      ]
    },
    {
      "cell_type": "code",
      "execution_count": null,
      "metadata": {
        "id": "EM9lMT8cixtM"
      },
      "outputs": [],
      "source": [
        "def model_maker(seq_len_x,num_layers, d_model, num_heads, dff, input_vocab_size,\n",
        "              target_vocab_size, pe_input, pe_target,op,layer_norm, droprate=0.1,Training=True):\n",
        "  encoder = Encoder(num_layers, d_model, num_heads, dff,\n",
        "                            input_vocab_size, pe_input, droprate)\n",
        "\n",
        "  final_layer = tf.keras.layers.Dense(input_vocab_size,activation='softmax')\n",
        "\n",
        "  # Keras models prefer if you pass all your inputs in the first argument\n",
        "  inp= Input(shape=(seq_len_x), name='encoder_inputs')\n",
        "  tar=inp\n",
        "  print(inp.shape)\n",
        "  print(droprate)\n",
        "#  enc_padding_mask, look_ahead_mask, dec_padding_mask = create_masks(inp, tar)\n",
        "\n",
        "  enc_output = encoder(inp, Training, None,droprate,layer_norm)  # (batch_size, inp_seq_len, d_model)\n",
        "\n",
        "  dense_output=final_layer(enc_output)\n",
        "  dense_output=dense_output[:, np.newaxis,:]\n",
        "\n",
        "  model_transformer = Model(inp,\n",
        "                                                dense_output, name='model_transformer')\n",
        "  model_transformer.compile(optimizer=op,loss='categorical_crossentropy', metrics=['accuracy'])\n",
        "#  model_encoder_decoder_Bahdanau_Attention.compile(optimizer=tf.keras.optimizers.RMSprop(),loss='categorical_crossentropy', metrics=['accuracy'])\n",
        "  return model_transformer"
      ]
    },
    {
      "cell_type": "markdown",
      "metadata": {
        "id": "yD_L63j561ZI"
      },
      "source": [
        "# Calling transformer"
      ]
    },
    {
      "cell_type": "code",
      "execution_count": null,
      "metadata": {
        "colab": {
          "base_uri": "https://localhost:8080/"
        },
        "id": "fYf6qH7Bl4xZ",
        "outputId": "5552d0ec-68e3-4bf3-c1db-fd7a0d005a85"
      },
      "outputs": [
        {
          "output_type": "stream",
          "name": "stdout",
          "text": [
            "(None, 20)\n",
            "None\n"
          ]
        }
      ],
      "source": [
        "transformer = model_maker(\n",
        "    seq_len_x=20,\n",
        "    num_layers=4,\n",
        "    d_model=128,\n",
        "    num_heads=4,\n",
        "    dff=2048,\n",
        "    input_vocab_size=10767,\n",
        "    target_vocab_size=10000,\n",
        "    pe_input=1000,\n",
        "    pe_target=1000,\n",
        "    op=tf.keras.optimizers.Adam(learning_rate=0.001),layer_norm=0,droprate=None)"
      ]
    },
    {
      "cell_type": "code",
      "execution_count": null,
      "metadata": {
        "id": "np-_NYLQz-z7",
        "colab": {
          "base_uri": "https://localhost:8080/"
        },
        "outputId": "7d5f604e-e24c-40d1-d976-36504a6e923a"
      },
      "outputs": [
        {
          "output_type": "stream",
          "name": "stdout",
          "text": [
            "Model: \"model_transformer\"\n",
            "_________________________________________________________________\n",
            " Layer (type)                Output Shape              Param #   \n",
            "=================================================================\n",
            " encoder_inputs (InputLayer)  [(None, 20)]             0         \n",
            "                                                                 \n",
            " encoder (Encoder)           (None, 2560)              3748224   \n",
            "                                                                 \n",
            " dense_24 (Dense)            (None, 10767)             27574287  \n",
            "                                                                 \n",
            " tf.__operators__.getitem (S  (None, 1, 10767)         0         \n",
            " licingOpLambda)                                                 \n",
            "                                                                 \n",
            "=================================================================\n",
            "Total params: 31,322,511\n",
            "Trainable params: 31,322,511\n",
            "Non-trainable params: 0\n",
            "_________________________________________________________________\n"
          ]
        }
      ],
      "source": [
        "transformer.summary()"
      ]
    },
    {
      "cell_type": "code",
      "execution_count": null,
      "metadata": {
        "id": "x2ocHuNTpwr4"
      },
      "outputs": [],
      "source": [
        "print('RAM memory % used:', psutil.virtual_memory()[2])"
      ]
    },
    {
      "cell_type": "code",
      "execution_count": null,
      "metadata": {
        "id": "Vwtf5YppRU_X"
      },
      "outputs": [],
      "source": [
        "a=len(X)/54400"
      ]
    },
    {
      "cell_type": "code",
      "execution_count": null,
      "metadata": {
        "colab": {
          "base_uri": "https://localhost:8080/"
        },
        "id": "orxqHVZ4RcTF",
        "outputId": "d8c6301b-a58b-45b5-af7f-1bf226d034f8"
      },
      "outputs": [
        {
          "output_type": "execute_result",
          "data": {
            "text/plain": [
              "190"
            ]
          },
          "metadata": {},
          "execution_count": 12
        }
      ],
      "source": [
        "int(a-a*0.1-2)"
      ]
    },
    {
      "cell_type": "code",
      "execution_count": null,
      "metadata": {
        "id": "CRza_mqtLSQ3"
      },
      "outputs": [],
      "source": [
        "validation_X=X[54400*int(a-a*0.1-2):54400*int(a-a*0.1-2)+10000]\n",
        "validation_Y=np.array(Y[54400*int(a-a*0.1-2):54400*int(a-a*0.1-2)+10000])"
      ]
    },
    {
      "cell_type": "code",
      "execution_count": null,
      "metadata": {
        "colab": {
          "base_uri": "https://localhost:8080/"
        },
        "id": "hUEeJKgb-Xaj",
        "outputId": "d1f6e52d-f5a9-445f-b98e-ead45ce86db9"
      },
      "outputs": [
        {
          "output_type": "execute_result",
          "data": {
            "text/plain": [
              "96"
            ]
          },
          "metadata": {},
          "execution_count": 22
        }
      ],
      "source": [
        "p=json.loads('{\"validation_accuracies_upto_i-th_sample\": [0.1578, 0.2162, 0.2288, 0.2416, 0.2494, 0.2506, 0.2522, 0.263, 0.2694, 0.2773, 0.2715, 0.284, 0.2878, 0.2852, 0.2911, 0.2912, 0.2923, 0.3031, 0.2961, 0.2999, 0.3048, 0.3055, 0.3106, 0.3142, 0.3147, 0.3121, 0.3172, 0.3191, 0.317, 0.3196, 0.3153, 0.3215, 0.3176, 0.3238, 0.3223, 0.3278, 0.3153, 0.328, 0.3317, 0.3294, 0.3307, 0.3273, 0.33, 0.3305, 0.3363, 0.3346, 0.3361, 0.3371, 0.3342, 0.3387, 0.3398, 0.3408, 0.3414, 0.3464, 0.3445, 0.3467, 0.3487, 0.3472, 0.3483, 0.3465, 0.346, 0.3491, 0.3491, 0.3462, 0.3475, 0.3499, 0.3513, 0.3525, 0.3532, 0.3548, 0.3532, 0.3518, 0.3561, 0.3547, 0.3546, 0.3541, 0.3509, 0.3496, 0.3552, 0.3543, 0.3574, 0.3543, 0.3534, 0.3524, 0.356, 0.3491, 0.3584, 0.3603, 0.3603, 0.3606, 0.3661, 0.3629, 0.3618, 0.3578, 0.3604, 0.3547]}')\n",
        "len(p['validation_accuracies_upto_i-th_sample'])"
      ]
    },
    {
      "cell_type": "code",
      "execution_count": null,
      "metadata": {
        "colab": {
          "base_uri": "https://localhost:8080/"
        },
        "id": "5PLodeka2u_p",
        "outputId": "8acdb998-e793-4340-ebd3-33e1e14cc2f3"
      },
      "outputs": [
        {
          "output_type": "execute_result",
          "data": {
            "text/plain": [
              "<tensorflow.python.training.tracking.util.CheckpointLoadStatus at 0x7f35634ece90>"
            ]
          },
          "metadata": {},
          "execution_count": 23
        }
      ],
      "source": [
        "transformer.load_weights('/content/drive/MyDrive/Transformer_Experiments/20,1,X,Y/Experimentdone on 27 3 22 without sen shuffle 4:57pm/weights_transformer')"
      ]
    },
    {
      "cell_type": "code",
      "execution_count": null,
      "metadata": {
        "id": "NgSMpeKJ25jA",
        "colab": {
          "base_uri": "https://localhost:8080/"
        },
        "outputId": "d9fb14be-5341-448c-a501-b32198d84b11"
      },
      "outputs": [
        {
          "output_type": "stream",
          "name": "stdout",
          "text": [
            "10/10 [==============================] - 7s 121ms/step - loss: 3.3483 - accuracy: 0.3738\n"
          ]
        },
        {
          "output_type": "execute_result",
          "data": {
            "text/plain": [
              "[3.348339022445679, 0.3738]"
            ]
          },
          "metadata": {},
          "execution_count": 24
        }
      ],
      "source": [
        "transformer.evaluate(validation_X,validation_Y,batch_size=1024)"
      ]
    },
    {
      "cell_type": "code",
      "execution_count": null,
      "metadata": {
        "id": "hjQYu_tlbHdp"
      },
      "outputs": [],
      "source": [
        "p={}\n",
        "p['validation_accuracies_upto_i-th_sample']=[]\n"
      ]
    },
    {
      "cell_type": "code",
      "execution_count": null,
      "metadata": {
        "id": "ARxxVv8gGpP_"
      },
      "outputs": [],
      "source": [
        "segment=0"
      ]
    },
    {
      "cell_type": "code",
      "execution_count": null,
      "metadata": {
        "id": "s7lnv_L5pkZ7"
      },
      "outputs": [],
      "source": [
        "for i in range(int(a-a*0.1-2)):\n",
        "#  segment=random.randint(20,300)\n",
        "  l=54400*segment\n",
        "  u=54400*(segment+1)\n",
        "  X_10_1=X[l:u]\n",
        "  Y_10_1=np.array(Y[l:u])\n",
        "  callback = tf.keras.callbacks.EarlyStopping(monitor='val_accuracy', patience=3,restore_best_weights=True)\n",
        "  history=transformer.fit(X_10_1,Y_10_1,batch_size=1024,epochs=30,validation_data=(validation_X,validation_Y),callbacks=[callback])\n",
        "#  transformer.save_weights(\"/content/drive/MyDrive/Transformer_Experiments/20,1,X,Y/weights_transformer\")\n",
        "#  p['validation_accuracies_upto_i-th_sample'].append(max(history.history['val_accuracy']))\n",
        "#  ar_file=open('/content/drive/MyDrive/Transformer_Experiments/20,1,X,Y/val_acc.json', 'w')\n",
        "#  json.dump(p,ar_file)\n",
        "#  ar_file.seek(0)\n",
        "#  ar_file.close()\n",
        "  gc.collect()\n",
        "  del X_10_1\n",
        "  del Y_10_1\n",
        "  del history\n",
        "  gc.collect()\n",
        "  print('RAM memory % used:', psutil.virtual_memory()[2])\n",
        "  print(color.BOLD+\"cou={},i={} done\".format(segment,i+1)+color.END)\n",
        "  segment+=1\n",
        "  if segment<int(a-a*0.1-2):\n",
        "    continue\n",
        "  else:\n",
        "    break"
      ]
    },
    {
      "cell_type": "code",
      "execution_count": null,
      "metadata": {
        "colab": {
          "base_uri": "https://localhost:8080/",
          "height": 543
        },
        "id": "06asJbRnZwrc",
        "outputId": "d9a02d69-0c28-451a-bf78-34757ae1ac16"
      },
      "outputs": [
        {
          "output_type": "stream",
          "name": "stderr",
          "text": [
            "/usr/local/lib/python3.7/dist-packages/ipykernel_launcher.py:14: MatplotlibDeprecationWarning: Unrecognized location 'bottom right'. Falling back on 'best'; valid locations are\n",
            "\tbest\n",
            "\tupper right\n",
            "\tupper left\n",
            "\tlower left\n",
            "\tlower right\n",
            "\tright\n",
            "\tcenter left\n",
            "\tcenter right\n",
            "\tlower center\n",
            "\tupper center\n",
            "\tcenter\n",
            "This will raise an exception in 3.3.\n",
            "  \n"
          ]
        },
        {
          "output_type": "display_data",
          "data": {
            "text/plain": [
              "<Figure size 432x288 with 1 Axes>"
            ],
            "image/png": "[encoded data removed]"
          },
          "metadata": {
            "needs_background": "light"
          }
        }
      ],
      "source": [
        "#Finding best input sentence length size\n",
        "po10=json.loads('{\"validation_accuracies_upto_i-th_sample\": [0.1782, 0.2119, 0.2347, 0.2422, 0.2463, 0.2566, 0.2577, 0.2639, 0.2653, 0.27, 0.2736, 0.273, 0.2747, 0.2773, 0.283, 0.2843, 0.2857, 0.2854, 0.2884, 0.289, 0.2911, 0.2943, 0.2938, 0.2917, 0.2964, 0.2952, 0.2982, 0.3025, 0.3031, 0.3022, 0.3013, 0.2984, 0.3044, 0.3075, 0.3067, 0.3099, 0.3086, 0.3098, 0.3086, 0.3107, 0.3127, 0.3166, 0.3196, 0.3128, 0.3157, 0.3171, 0.3122, 0.3124, 0.315, 0.3165, 0.3233, 0.3212, 0.3239, 0.3217, 0.3192, 0.326, 0.3245, 0.3257, 0.3278, 0.3255, 0.3244, 0.3297, 0.3267, 0.3277, 0.3314, 0.3292, 0.3287, 0.3295, 0.3314, 0.3325, 0.3293, 0.33, 0.3357, 0.3349, 0.3369, 0.335, 0.334, 0.3384, 0.3408, 0.3331, 0.3398, 0.3397, 0.343, 0.3361, 0.3395, 0.3414, 0.3356, 0.3378, 0.3375, 0.3402, 0.3379, 0.3421, 0.3414, 0.3387, 0.3399, 0.3371, 0.341, 0.348, 0.3461, 0.3438, 0.3461, 0.3475, 0.3429, 0.3428, 0.3459, 0.3442, 0.3476, 0.3441, 0.3476, 0.3473, 0.3507, 0.348, 0.349, 0.3491, 0.3463, 0.3498, 0.3529, 0.3508, 0.3505, 0.3518, 0.3526, 0.3559, 0.3503, 0.3519, 0.3502, 0.3512, 0.3523, 0.3542, 0.3489, 0.3487, 0.3545, 0.3508, 0.3533, 0.3523, 0.3548, 0.3479, 0.3508, 0.3515, 0.3548, 0.3528, 0.3539, 0.352, 0.3515, 0.3528, 0.3559, 0.3552, 0.3514, 0.3553, 0.3593, 0.3564, 0.3571, 0.3521, 0.3575, 0.3584, 0.3527, 0.3558, 0.3594, 0.3566, 0.3532, 0.3585, 0.3571, 0.3591, 0.3579, 0.3553, 0.3572, 0.3578, 0.3563, 0.3585, 0.3612, 0.3558, 0.3575, 0.3646, 0.3582, 0.3584, 0.3538, 0.3593, 0.3578, 0.3586, 0.3548, 0.3621, 0.3597, 0.3644, 0.3629, 0.3604, 0.3605, 0.3618, 0.3606, 0.3635, 0.3615, 0.364, 0.3636, 0.3649, 0.367, 0.3657, 0.3648, 0.3605, 0.3679, 0.3625, 0.3632, 0.36, 0.3621, 0.3639, 0.3631, 0.3642, 0.3643, 0.3594, 0.3629, 0.3578, 0.3642, 0.3628, 0.3604, 0.3641, 0.3644, 0.3617, 0.3595, 0.3625, 0.3597, 0.3666, 0.3667, 0.3652, 0.3668, 0.3645, 0.3642, 0.3638, 0.3637, 0.3623, 0.3636, 0.3669, 0.3626, 0.3662, 0.3636, 0.3671, 0.3678, 0.3665, 0.3651, 0.3661, 0.3698, 0.3718, 0.3699, 0.3676, 0.3666, 0.3648, 0.3691, 0.3648, 0.3672, 0.3695, 0.3708, 0.3669, 0.3699, 0.3673, 0.3724, 0.37, 0.3682, 0.3649, 0.3724, 0.3695, 0.3682, 0.37, 0.3678, 0.3689, 0.3725, 0.3713, 0.3702, 0.3669, 0.3686, 0.3688, 0.371, 0.3704, 0.3754, 0.3711, 0.3706, 0.375, 0.3703, 0.372, 0.3682, 0.3727, 0.3718, 0.3692, 0.3658, 0.3657, 0.3711, 0.3707, 0.373, 0.3714, 0.3709, 0.3746, 0.3774, 0.3675, 0.3666, 0.37, 0.3712, 0.3703, 0.3787, 0.3736]}')\n",
        "po15=json.loads('{\"validation_accuracies_upto_i-th_sample\": [0.1597, 0.2115, 0.2179, 0.2364, 0.2514, 0.2607, 0.2614, 0.2641, 0.268, 0.2752, 0.2753, 0.2769, 0.2824, 0.2885, 0.2788, 0.2926, 0.2925, 0.2974, 0.2949, 0.2957, 0.2944, 0.3077, 0.3009, 0.304, 0.3019, 0.3041, 0.3139, 0.3057, 0.307, 0.3081, 0.3145, 0.3181, 0.3173, 0.3114, 0.3174, 0.3183, 0.3171, 0.3233, 0.3219, 0.3278, 0.3215, 0.3229, 0.3267, 0.3287, 0.3286, 0.3282, 0.3246, 0.3304, 0.3315, 0.3251, 0.3302, 0.3336, 0.3377, 0.3372, 0.3383, 0.335, 0.34, 0.3358, 0.3327, 0.3381, 0.3385, 0.3398, 0.3448, 0.3425, 0.3431, 0.3418, 0.3402, 0.3474, 0.3461, 0.3436, 0.3438, 0.3415, 0.3461, 0.3454, 0.3484, 0.3451, 0.35, 0.346, 0.3474, 0.3496, 0.3514, 0.3508, 0.3479, 0.3562, 0.3517, 0.3554, 0.3528, 0.3504, 0.3514, 0.3522, 0.3512, 0.3545, 0.3503, 0.3506, 0.3514, 0.3501, 0.3507, 0.3528, 0.3512, 0.3566, 0.3543, 0.3491, 0.3482, 0.3535, 0.3593, 0.3512, 0.3587, 0.3563, 0.3581, 0.3527, 0.3564, 0.357, 0.3567, 0.3545, 0.3554, 0.3554, 0.3623, 0.3587, 0.3649, 0.3607, 0.3608, 0.357, 0.3579, 0.3554, 0.3597, 0.3646, 0.3603, 0.3626, 0.3591, 0.3631, 0.3678, 0.367, 0.369, 0.3625, 0.3653, 0.3635, 0.3612, 0.3682, 0.3655, 0.3652, 0.3623, 0.3601, 0.3668, 0.3647, 0.3626, 0.3691, 0.3672, 0.3644, 0.3653, 0.3702, 0.3614, 0.3642, 0.3658, 0.3647, 0.3684, 0.3694, 0.37, 0.3685, 0.3727, 0.3669, 0.3678, 0.3674, 0.3691, 0.3667, 0.3686, 0.3697, 0.3701, 0.3717, 0.3648, 0.3686, 0.3644, 0.3676, 0.3692, 0.3696, 0.3671, 0.369, 0.368, 0.3663, 0.3602, 0.3686, 0.3637, 0.3687, 0.3684, 0.3707, 0.3693, 0.3711, 0.3623, 0.3679, 0.3647, 0.3694, 0.3638, 0.3679, 0.3734, 0.3696, 0.3666, 0.368, 0.3675, 0.3736, 0.3721, 0.37, 0.3737, 0.3715, 0.3715, 0.3724, 0.3744, 0.371, 0.3756, 0.373, 0.3694, 0.3755, 0.3727, 0.3709, 0.3737, 0.3712, 0.3727, 0.3734, 0.375, 0.3785, 0.3745, 0.374, 0.3772, 0.3754, 0.3673, 0.3756, 0.3722, 0.3696, 0.3752, 0.3752, 0.3749, 0.3717, 0.3758, 0.3738, 0.3732, 0.369, 0.3704, 0.3723]}')\n",
        "po20=json.loads('{\"validation_accuracies_upto_i-th_sample\": [0.1502, 0.2025, 0.2252, 0.2298, 0.2461, 0.2488, 0.2581, 0.2636, 0.2688, 0.2757, 0.279, 0.2829, 0.2919, 0.2845, 0.2888, 0.2945, 0.2899, 0.2968, 0.299, 0.3004, 0.3121, 0.3091, 0.3033, 0.3075, 0.3105, 0.3082, 0.3143, 0.3158, 0.3198, 0.3119, 0.3187, 0.3181, 0.33, 0.3173, 0.326, 0.3237, 0.3259, 0.331, 0.3319, 0.3291, 0.331, 0.3286, 0.3299, 0.3361, 0.3348, 0.3343, 0.3403, 0.3407, 0.3338, 0.3379, 0.3384, 0.3373, 0.3402, 0.3404, 0.3387, 0.3419, 0.3448, 0.3466, 0.3435, 0.3448, 0.3429, 0.3462, 0.3454, 0.3469, 0.3506, 0.3473, 0.3467, 0.3514, 0.348, 0.3507, 0.3525, 0.3525, 0.3519, 0.3519, 0.3509, 0.354, 0.3565, 0.3523, 0.3582, 0.3523, 0.3521, 0.3559, 0.3523, 0.3527, 0.3564, 0.3596, 0.3561, 0.3568, 0.3619, 0.3605, 0.3568, 0.3578, 0.3625, 0.3623, 0.363, 0.359, 0.3609, 0.3603, 0.3685, 0.3623, 0.3596, 0.3564, 0.3588, 0.3623, 0.3664, 0.3625, 0.3594, 0.3592, 0.3608, 0.3653, 0.3643, 0.3651, 0.3641, 0.3678, 0.37, 0.3707, 0.3665, 0.3605, 0.3663, 0.3648, 0.365, 0.3674, 0.3642, 0.3652, 0.3658, 0.3642, 0.3671, 0.3624, 0.367, 0.3637, 0.3685, 0.3693, 0.3695, 0.3735, 0.3705, 0.3685, 0.3685, 0.3664, 0.3633, 0.3638, 0.3661, 0.3696, 0.3753, 0.3724, 0.37, 0.3634, 0.3726, 0.3682, 0.3661, 0.3693, 0.3663, 0.3689, 0.365, 0.3649, 0.3719, 0.3752, 0.3716, 0.3668, 0.371, 0.3721, 0.3723, 0.3741, 0.3746, 0.3758, 0.3778, 0.3724, 0.3684, 0.3724, 0.371, 0.3756, 0.3769, 0.3732, 0.3769, 0.3712, 0.3719, 0.3782, 0.3733, 0.3747, 0.3718, 0.3715, 0.3727, 0.3718, 0.3755, 0.3762, 0.3736, 0.372, 0.3706, 0.3689, 0.3742]}')\n",
        "po25=json.loads('{\"validation_accuracies_upto_i-th_sample\": [0.1457, 0.2057, 0.2206, 0.2301, 0.2343, 0.2466, 0.2541, 0.2546, 0.2554, 0.2627, 0.2699, 0.2737, 0.2783, 0.2733, 0.2856, 0.283, 0.2768, 0.2916, 0.3004, 0.2984, 0.29, 0.2951, 0.296, 0.3001, 0.3029, 0.3042, 0.3047, 0.31, 0.3121, 0.3114, 0.3154, 0.3126, 0.3108, 0.3147, 0.3176, 0.3184, 0.3222, 0.3234, 0.3231, 0.3242, 0.3187, 0.3251, 0.3273, 0.3252, 0.3298, 0.3272, 0.3257, 0.3296, 0.3278, 0.3307, 0.3353, 0.3354, 0.3387, 0.3371, 0.3339, 0.3385, 0.337, 0.3371, 0.3392, 0.3392, 0.3401, 0.3431, 0.3419, 0.3446, 0.3403, 0.3403, 0.3406, 0.3465, 0.3425, 0.3402, 0.341, 0.3478, 0.3486, 0.3471, 0.3412, 0.3464, 0.3474, 0.346, 0.3464, 0.3529, 0.346, 0.3475, 0.3473, 0.3431, 0.3446, 0.3465, 0.3492, 0.3482, 0.3514, 0.3519, 0.3465, 0.3494, 0.351, 0.3547, 0.3585, 0.3564, 0.3542, 0.3551, 0.3543, 0.355, 0.3512, 0.3522, 0.3582, 0.3477, 0.3547, 0.358, 0.3551, 0.3538, 0.3537, 0.3547, 0.3542, 0.3533, 0.3586, 0.3611, 0.3531, 0.3567, 0.3514, 0.3538, 0.3574, 0.3567, 0.358, 0.3531, 0.3582, 0.3564, 0.3587, 0.3561, 0.3644, 0.3601, 0.3639, 0.3576, 0.3547, 0.3569, 0.3538, 0.3554, 0.3569, 0.3574, 0.3588, 0.361, 0.3567, 0.3615, 0.3559, 0.3657, 0.3581, 0.3604, 0.3613, 0.3597, 0.3645, 0.3611, 0.3583, 0.3619, 0.3601, 0.3611, 0.3613]}')\n",
        "po30=json.loads('{\"validation_accuracies_upto_i-th_sample\": [0.1441, 0.1944, 0.2184, 0.2312, 0.2375, 0.2467, 0.2582, 0.2597, 0.266, 0.2714, 0.2702, 0.2781, 0.2707, 0.2782, 0.2812, 0.284, 0.2866, 0.2889, 0.2943, 0.2946, 0.2981, 0.3035, 0.3075, 0.3058, 0.3108, 0.3037, 0.3121, 0.3128, 0.3108, 0.3129, 0.3149, 0.3114, 0.3203, 0.3187, 0.322, 0.3174, 0.3221, 0.3254, 0.3253, 0.3252, 0.3289, 0.3295, 0.3316, 0.3321, 0.3342, 0.3367, 0.3349, 0.3364, 0.3338, 0.3339, 0.3375, 0.3339, 0.3359, 0.3463, 0.3408, 0.3419, 0.3434, 0.3397, 0.341, 0.3394, 0.3453, 0.3408, 0.3443, 0.3452, 0.3494, 0.3488, 0.3481, 0.3481, 0.3447, 0.3483, 0.3499, 0.3461, 0.3476, 0.35, 0.3491, 0.353, 0.3474, 0.3515, 0.3498, 0.3493, 0.3511, 0.3496, 0.3524, 0.3571, 0.3557, 0.3515, 0.3591, 0.346, 0.3522, 0.3521, 0.3524, 0.3579, 0.3586, 0.3554, 0.3554, 0.357, 0.3521, 0.3596, 0.3577, 0.3532, 0.3585, 0.3593, 0.3595, 0.3611, 0.361, 0.362, 0.3635, 0.355, 0.3543, 0.3576, 0.3579, 0.36, 0.3617, 0.3589, 0.3573, 0.3625, 0.3588, 0.3568, 0.3558, 0.3611, 0.3604, 0.3626, 0.3621, 0.3622, 0.3637]}')\n",
        "#po50=json.loads('{\"validation_accuracies_upto_i-th_sample\": [0.1535, 0.1819, 0.2133, 0.2233, 0.2241, 0.2286, 0.23, 0.2611, 0.2557, 0.2443, 0.2682, 0.2634, 0.2612, 0.2723, 0.2753, 0.2798, 0.2833, 0.2873, 0.2927, 0.2888, 0.2937, 0.2986, 0.3026, 0.302, 0.3047, 0.3012, 0.3071, 0.3045, 0.3083, 0.3081, 0.3096, 0.3082, 0.3128, 0.3184, 0.3185, 0.3172, 0.3086, 0.3238, 0.321]}')\n",
        "plt.plot((np.array(po10['validation_accuracies_upto_i-th_sample'])*10000).tolist())\n",
        "plt.plot((np.array(po15['validation_accuracies_upto_i-th_sample'])*10000).tolist())\n",
        "plt.plot((np.array(po20['validation_accuracies_upto_i-th_sample'])*10000).tolist())\n",
        "plt.plot((np.array(po25['validation_accuracies_upto_i-th_sample'])*10000).tolist())\n",
        "plt.plot((np.array(po30['validation_accuracies_upto_i-th_sample'])*10000).tolist())\n",
        "#plt.plot(po50['validation_accuracies_upto_i-th_sample'])).tolist()\n",
        "plt.legend(['10','15','20','25','30'], loc='bottom right')\n",
        "plt.ylabel('validation_accuracies_upto_i-th_sample')\n",
        "plt.xlabel('sample_no',)\n",
        "plt.show()\n"
      ]
    },
    {
      "cell_type": "code",
      "execution_count": null,
      "metadata": {
        "id": "gf4OYMrn6oQj"
      },
      "outputs": [],
      "source": [
        "testing_l=int(a-a*0.1-2)*544\n",
        "testing_u=(int(a)-1)*544"
      ]
    },
    {
      "cell_type": "code",
      "execution_count": null,
      "metadata": {
        "id": "8AQqW4tt-MWF"
      },
      "outputs": [],
      "source": [
        "#Making Test Dataset\n",
        "Testing_Y=[]\n",
        "for i in range(100):\n",
        "  segment=random.randint(testing_l,testing_u)\n",
        "  if i==0:\n",
        "    Testing_X=X[100*segment:100*(segment+1)]\n",
        "  else:\n",
        "    Testing_X=np.vstack((Testing_X,X[100*segment:100*(segment+1)]))\n",
        "#  print(i)\n",
        "  Testing_Y+=Y[100*segment:100*(segment+1)]"
      ]
    },
    {
      "cell_type": "code",
      "execution_count": null,
      "metadata": {
        "colab": {
          "base_uri": "https://localhost:8080/"
        },
        "id": "_ksrxAU4cGhg",
        "outputId": "8a7ef416-9aa7-4ebf-e42f-b6786d14a9a3"
      },
      "outputs": [
        {
          "output_type": "stream",
          "name": "stdout",
          "text": [
            "313/313 [==============================] - 15s 47ms/step - loss: 3.3710 - accuracy: 0.3682\n"
          ]
        },
        {
          "output_type": "execute_result",
          "data": {
            "text/plain": [
              "[3.370959135437012, 0.3682]"
            ]
          },
          "metadata": {},
          "execution_count": 33
        }
      ],
      "source": [
        "#Test DataSet Accuracy\n",
        "transformer.evaluate(Testing_X,np.array(Testing_Y))"
      ]
    },
    {
      "cell_type": "code",
      "source": [
        "nstop_val_x=[]\n",
        "nstop_val_y=[]\n",
        "stop_val_x=[]\n",
        "stop_val_y=[]\n",
        "for i in range(len(validation_Y)):\n",
        "  if argmax(validation_Y[i][0]) not in stopid:\n",
        "    nstop_val_x.append(validation_X[i])\n",
        "    nstop_val_y.append(validation_Y[i])\n",
        "  else:\n",
        "    stop_val_x.append(validation_X[i])\n",
        "    stop_val_y.append(validation_Y[i])"
      ],
      "metadata": {
        "id": "74vjzGxPQk3N"
      },
      "execution_count": null,
      "outputs": []
    },
    {
      "cell_type": "code",
      "source": [
        "len(nstop_val_x),len(stop_val_x)"
      ],
      "metadata": {
        "colab": {
          "base_uri": "https://localhost:8080/"
        },
        "id": "viAbQPXwST_X",
        "outputId": "724d2353-fc00-4c0b-b6f8-7290fc4aab1b"
      },
      "execution_count": null,
      "outputs": [
        {
          "output_type": "execute_result",
          "data": {
            "text/plain": [
              "(5765, 4235)"
            ]
          },
          "metadata": {},
          "execution_count": 50
        }
      ]
    },
    {
      "cell_type": "code",
      "source": [
        "#Stopwords Accuracy\n",
        "transformer.evaluate(np.array(stop_val_x),np.array(stop_val_y))\n",
        "#Non-Stopwords Accuracy\n",
        "transformer.evaluate(np.array(nstop_val_x),np.array(nstop_val_y))"
      ],
      "metadata": {
        "colab": {
          "base_uri": "https://localhost:8080/"
        },
        "id": "lGy_AMI3SQWj",
        "outputId": "8e97fb97-8335-4af1-cd48-c01c7a4ace43"
      },
      "execution_count": null,
      "outputs": [
        {
          "output_type": "stream",
          "name": "stdout",
          "text": [
            "133/133 [==============================] - 6s 48ms/step - loss: 2.3945 - accuracy: 0.4434\n",
            "181/181 [==============================] - 9s 47ms/step - loss: 4.0490 - accuracy: 0.3226\n"
          ]
        },
        {
          "output_type": "execute_result",
          "data": {
            "text/plain": [
              "[4.049036658833778, 0.3226366001734605]"
            ]
          },
          "metadata": {},
          "execution_count": 55
        }
      ]
    },
    {
      "cell_type": "code",
      "execution_count": null,
      "metadata": {
        "id": "uAosr9Xxfswc"
      },
      "outputs": [],
      "source": [
        "def printing_outputs(model,X,Y,no_words):\n",
        "  pred=model.predict(X)\n",
        "  Output=[]\n",
        "  Input=[]\n",
        "  correct=0\n",
        "  no=0\n",
        "  for j in range(len(pred)):\n",
        "    sentences_i=[]\n",
        "    sentences_o=[]\n",
        "    s=one_hot_decode(pred[j],no_words)\n",
        "    for i in range(len(s)):\n",
        "      no+=1\n",
        "      if argmax(Y[j][i]) in s[i]:\n",
        "        correct+=1\n",
        "      sentences_o.append(id2word[s[i]])\n",
        "    for i in X[j]:\n",
        "      sentences_i.append(id2word[i])\n",
        "    Output.append(sentences_o)\n",
        "    Input.append(sentences_i)\n",
        "#  for i in range(len(X)):\n",
        "#    print(Input[i],Output[i])\n",
        "  return correct/no\n",
        "def one_hot_decode(encoded_seq,no_words):\n",
        "\treturn [np.argpartition(vector, -no_words)[-no_words:] for vector in encoded_seq]"
      ]
    },
    {
      "cell_type": "code",
      "source": [
        "#accuracies vs top 'n' words\n",
        "n_acc={}\n",
        "n_acc['accuracies']=[printing_outputs(transformer,validation_X[:10000],validation_Y[:10000],i+1) for i in range(10)] \n",
        "plt.plot(n_acc['accuracies'])\n",
        "plt.ylabel('accuracy')\n",
        "plt.xlabel('top-words-size')\n",
        "plt.show()"
      ],
      "metadata": {
        "colab": {
          "base_uri": "https://localhost:8080/",
          "height": 279
        },
        "id": "aI0eecsn2DRI",
        "outputId": "3cd6e41b-98ff-415a-fe7f-500c0163478d"
      },
      "execution_count": null,
      "outputs": [
        {
          "output_type": "display_data",
          "data": {
            "text/plain": [
              "<Figure size 432x288 with 1 Axes>"
            ],
            "image/png": "[encoded data removed]"
          },
          "metadata": {
            "needs_background": "light"
          }
        }
      ]
    },
    {
      "cell_type": "code",
      "source": [
        "n_acc"
      ],
      "metadata": {
        "colab": {
          "base_uri": "https://localhost:8080/"
        },
        "id": "R-iqHA7l2D_A",
        "outputId": "2bb09df0-5639-4c84-b9fc-c1bd50ec9476"
      },
      "execution_count": null,
      "outputs": [
        {
          "output_type": "execute_result",
          "data": {
            "text/plain": [
              "{'accuracies': [0.3738,\n",
              "  0.4827,\n",
              "  0.5395,\n",
              "  0.5783,\n",
              "  0.6085,\n",
              "  0.6305,\n",
              "  0.6504,\n",
              "  0.6659,\n",
              "  0.6797,\n",
              "  0.6915]}"
            ]
          },
          "metadata": {},
          "execution_count": 27
        }
      ]
    }
  ],
  "metadata": {
    "accelerator": "GPU",
    "colab": {
      "collapsed_sections": [
        "hrwJiJ9v6djH"
      ],
      "machine_shape": "hm",
      "provenance": []
    },
    "kernelspec": {
      "display_name": "Python 3",
      "name": "python3"
    },
    "language_info": {
      "name": "python"
    }
  },
  "nbformat": 4,
  "nbformat_minor": 0
}